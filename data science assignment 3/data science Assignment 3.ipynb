{
 "cells": [
  {
   "cell_type": "markdown",
   "metadata": {},
   "source": [
    "# Q1"
   ]
  },
  {
   "cell_type": "code",
   "execution_count": 1,
   "metadata": {},
   "outputs": [
    {
     "data": {
      "text/plain": [
       "array([ 2,  5,  8, 11, 14, 17, 20, 23, 26, 29, 32, 35, 38, 41, 44, 47])"
      ]
     },
     "execution_count": 1,
     "metadata": {},
     "output_type": "execute_result"
    }
   ],
   "source": [
    "#Creat a numpy array starting from 2 till 50 with a stepsize of 3\n",
    "import numpy as np\n",
    "np.arange(start=2,stop=50,step=3)"
   ]
  },
  {
   "cell_type": "markdown",
   "metadata": {},
   "source": [
    "# Q2"
   ]
  },
  {
   "cell_type": "code",
   "execution_count": 3,
   "metadata": {},
   "outputs": [
    {
     "name": "stdout",
     "output_type": "stream",
     "text": [
      "\n",
      "Enter values for lst_1 : 85\n",
      "\n",
      "Enter values for lst_1 : 69\n",
      "\n",
      "Enter values for lst_1 : 65\n",
      "\n",
      "Enter values for lst_1 : 69\n",
      "\n",
      "Enter values for lst_1 : 68\n",
      "\n",
      "Enter values for lst_2 : 89\n",
      "\n",
      "Enter values for lst_2 : 69\n",
      "\n",
      "Enter values for lst_2 : 96\n",
      "\n",
      "Enter values for lst_2 : 69\n",
      "\n",
      "Enter values for lst_2 : 69\n",
      "\n",
      "Value for concatenate arr : [85 69 65 69 68 89 69 96 69 69]\n",
      "\n",
      "Sorted the arrays for concatenated arr : [65 68 69 69 69 69 69 85 89 96]\n"
     ]
    }
   ],
   "source": [
    "import numpy as np\n",
    "# Empty list\n",
    "lst_1 = []\n",
    "lst_2 = []\n",
    "# list 1 values\n",
    "for i in range(5):\n",
    " x=int(input(\"\\nEnter values for lst_1 : \"))\n",
    " lst_1.append(x)\n",
    "\n",
    "# List 2 values\n",
    "for i in range(5):\n",
    " x=int(input(\"\\nEnter values for lst_2 : \"))\n",
    " lst_2.append(x)\n",
    "\n",
    "# Converting list into array\n",
    "arr_1 = np.array(lst_1)\n",
    "arr_2 = np.array(lst_2)\n",
    "# Concatenate to numpy array\n",
    "arr = (np.concatenate((arr_1, arr_2), axis=0))\n",
    "print(\"\\nValue for concatenate arr :\",arr)\n",
    "# Sort the arrays and print\n",
    "sortArr = (np.sort(arr))\n",
    "print(\"\\nSorted the arrays for concatenated arr :\",sortArr)"
   ]
  },
  {
   "cell_type": "markdown",
   "metadata": {},
   "source": [
    "# Q3"
   ]
  },
  {
   "cell_type": "code",
   "execution_count": 7,
   "metadata": {},
   "outputs": [
    {
     "name": "stdout",
     "output_type": "stream",
     "text": [
      "\n",
      "Dimensions in array :  2\n",
      "\n",
      "Size of array :  9\n"
     ]
    }
   ],
   "source": [
    "import numpy as np\n",
    "#Creat nd  array\n",
    "arr = np.array( [ [1,2,3] , [1,5,6] , [69,66,69]] )\n",
    "# print dimensions of array (axes)\n",
    "print(\"\\nDimensions in array : \", arr.ndim)\n",
    "#print size of array\n",
    "print(\"\\nSize of array : \", arr.size)\n"
   ]
  },
  {
   "cell_type": "markdown",
   "metadata": {},
   "source": [
    "# Q4"
   ]
  },
  {
   "cell_type": "code",
   "execution_count": 8,
   "metadata": {},
   "outputs": [
    {
     "name": "stdout",
     "output_type": "stream",
     "text": [
      "\n",
      "Shape of Array :  (8,)\n",
      "\n",
      "Shape of 2D Array in row :  (1, 8)\n",
      "\n",
      "Shape of 2D Array in Column :  (1, 8)\n"
     ]
    }
   ],
   "source": [
    "arr = np.arange(8)\n",
    "print(\"\\nShape of Array : \", arr.shape)\n",
    "row_arr = arr[np.newaxis, :]\n",
    "print(\"\\nShape of 2D Array in row : \", row_arr.shape)\n",
    "col_arr = arr[np.newaxis, :]\n",
    "print(\"\\nShape of 2D Array in Column : \", col_arr.shape)"
   ]
  },
  {
   "cell_type": "markdown",
   "metadata": {},
   "source": [
    "# Q5"
   ]
  },
  {
   "cell_type": "code",
   "execution_count": 9,
   "metadata": {},
   "outputs": [
    {
     "name": "stdout",
     "output_type": "stream",
     "text": [
      "\n",
      "Horizontal : [2 3 4 5 6 7 8 9]\n",
      "\n",
      "Vertical : [[2 3 4 5]\n",
      " [6 7 8 9]]\n"
     ]
    }
   ],
   "source": [
    "import numpy as np\n",
    "arr_1 = np.array([2,3,4,5])\n",
    "arr_2 = np.array([6,7,8,9])\n",
    "# Stack and print\n",
    "print(\"\\nHorizontal :\" , np.hstack((arr_1, arr_2)))\n",
    "print(\"\\nVertical :\" , np.vstack((arr_1, arr_2)))\n"
   ]
  },
  {
   "cell_type": "markdown",
   "metadata": {},
   "source": [
    "# Q6"
   ]
  },
  {
   "cell_type": "code",
   "execution_count": 11,
   "metadata": {},
   "outputs": [
    {
     "name": "stdout",
     "output_type": "stream",
     "text": [
      "The unique value from list: \n",
      "[1 2 3 4 6 7 8]\n"
     ]
    }
   ],
   "source": [
    "import numpy as np\n",
    "list = [1,2,4,6,4,8,7,8,3]\n",
    "print(\"The unique value from list: \")\n",
    "print(np.unique(list))"
   ]
  },
  {
   "cell_type": "code",
   "execution_count": null,
   "metadata": {},
   "outputs": [],
   "source": []
  }
 ],
 "metadata": {
  "kernelspec": {
   "display_name": "Python 3",
   "language": "python",
   "name": "python3"
  },
  "language_info": {
   "codemirror_mode": {
    "name": "ipython",
    "version": 3
   },
   "file_extension": ".py",
   "mimetype": "text/x-python",
   "name": "python",
   "nbconvert_exporter": "python",
   "pygments_lexer": "ipython3",
   "version": "3.7.6"
  }
 },
 "nbformat": 4,
 "nbformat_minor": 4
}
