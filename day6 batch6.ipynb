{
 "cells": [
  {
   "cell_type": "code",
   "execution_count": 6,
   "metadata": {},
   "outputs": [
    {
     "name": "stdout",
     "output_type": "stream",
     "text": [
      "Original key list is : ['a', 'b', 'c']\n",
      "Original value list is : [1, 4, 5]\n",
      "Resultant dictionary is : {'a': 1, 'b': 4, 'c': 5}\n"
     ]
    }
   ],
   "source": [
    "list1 = [\"a\", \"b\", \"c\"] \n",
    "list2 = [1, 4, 5] \n",
    "  \n",
    "# Printing original keys-value lists \n",
    "print (\"Original key list is : \" + str(list1)) \n",
    "print (\"Original value list is : \" + str(list2))\n",
    "res = {list1[i]: list2[i] for i in range(len(list1))}\n",
    "print (\"Resultant dictionary is : \" +  str(res)) "
   ]
  },
  {
   "cell_type": "code",
   "execution_count": null,
   "metadata": {},
   "outputs": [],
   "source": []
  }
 ],
 "metadata": {
  "kernelspec": {
   "display_name": "Python 3",
   "language": "python",
   "name": "python3"
  },
  "language_info": {
   "codemirror_mode": {
    "name": "ipython",
    "version": 3
   },
   "file_extension": ".py",
   "mimetype": "text/x-python",
   "name": "python",
   "nbconvert_exporter": "python",
   "pygments_lexer": "ipython3",
   "version": "3.7.6"
  }
 },
 "nbformat": 4,
 "nbformat_minor": 4
}
