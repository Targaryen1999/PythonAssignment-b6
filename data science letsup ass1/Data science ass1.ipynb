{
 "cells": [
  {
   "cell_type": "markdown",
   "metadata": {},
   "source": [
    "# Q1"
   ]
  },
  {
   "cell_type": "code",
   "execution_count": 3,
   "metadata": {},
   "outputs": [
    {
     "name": "stdout",
     "output_type": "stream",
     "text": [
      "Q1.Given the following jumbled word, OBANWRI guess the correct English word\n",
      "A. RANIBOW\n",
      "B. RAINBOW\n",
      "C. BOWRANI\n",
      "D. ROBWANI\n",
      "B\n",
      "Correct\n"
     ]
    }
   ],
   "source": [
    "print(\"Q1.Given the following jumbled word, OBANWRI guess the correct English word\")\n",
    "print(\"A. RANIBOW\")\n",
    "print(\"B. RAINBOW\")\n",
    "print(\"C. BOWRANI\")\n",
    "print(\"D. ROBWANI\")\n",
    "answer = input()\n",
    "if answer == \"B\":\n",
    " print(\"Correct\")\n",
    "else:\n",
    " print(\"Incorrect\")"
   ]
  },
  {
   "cell_type": "markdown",
   "metadata": {},
   "source": [
    "# Q2"
   ]
  },
  {
   "cell_type": "code",
   "execution_count": 5,
   "metadata": {},
   "outputs": [
    {
     "name": "stdout",
     "output_type": "stream",
     "text": [
      "Enter cost price:700\n",
      "Enter selling price:699.99\n",
      "loss is 0.009999999999990905\n",
      "DO u wnat to continue ? (y/n)y\n",
      "Enter cost price:799\n",
      "Enter selling price:969.69\n",
      "Profit is 170.69000000000005\n",
      "DO u wnat to continue ? (y/n)n\n"
     ]
    }
   ],
   "source": [
    "while True:\n",
    "    cp =float (input(\"Enter cost price:\"))\n",
    "    sp =float (input(\"Enter selling price:\"))\n",
    "    if sp > cp:\n",
    "     print(\"Profit is\",sp-cp)\n",
    "    elif sp == cp:\n",
    "     print(\"No Profit No Loss\")\n",
    "    else :\n",
    "     print(\"loss is\",cp-sp)\n",
    "    if input(\"DO u wnat to continue ? (y/n)\") != 'y':\n",
    "        break"
   ]
  },
  {
   "cell_type": "markdown",
   "metadata": {},
   "source": [
    "# Q3"
   ]
  },
  {
   "cell_type": "code",
   "execution_count": 6,
   "metadata": {},
   "outputs": [
    {
     "name": "stdout",
     "output_type": "stream",
     "text": [
      "Eenter your Euros :345\n",
      "Equivalent rupees is: 27600.0 rs\n",
      "Thanks\n",
      "Do u want to continue ? (y/n)y\n",
      "Eenter your Euros :69.69\n",
      "Equivalent rupees is: 5575.2 rs\n",
      "Thanks\n",
      "Do u want to continue ? (y/n)9696\n"
     ]
    }
   ],
   "source": [
    "while True:\n",
    "    e = float((input(\"Eenter your Euros :\")))\n",
    "    print('Equivalent rupees is:',e*80, 'rs' )\n",
    "    print(\"Thanks\")\n",
    "    if input(\"Do u want to continue ? (y/n)\") != 'y':\n",
    "        break"
   ]
  },
  {
   "cell_type": "code",
   "execution_count": null,
   "metadata": {},
   "outputs": [],
   "source": []
  }
 ],
 "metadata": {
  "kernelspec": {
   "display_name": "Python 3",
   "language": "python",
   "name": "python3"
  },
  "language_info": {
   "codemirror_mode": {
    "name": "ipython",
    "version": 3
   },
   "file_extension": ".py",
   "mimetype": "text/x-python",
   "name": "python",
   "nbconvert_exporter": "python",
   "pygments_lexer": "ipython3",
   "version": "3.7.6"
  }
 },
 "nbformat": 4,
 "nbformat_minor": 4
}
