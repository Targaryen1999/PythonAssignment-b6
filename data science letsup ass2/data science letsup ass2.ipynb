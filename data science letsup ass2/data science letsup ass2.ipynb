{
 "cells": [
  {
   "cell_type": "markdown",
   "metadata": {},
   "source": [
    "# Q1"
   ]
  },
  {
   "cell_type": "code",
   "execution_count": 7,
   "metadata": {},
   "outputs": [
    {
     "name": "stdout",
     "output_type": "stream",
     "text": [
      "[2]\n",
      "[2, 4]\n",
      "[2, 4, 6]\n",
      "[2, 4, 6, 8]\n",
      "[2, 4, 6, 8, 10]\n"
     ]
    }
   ],
   "source": [
    "# Creat an empty list\n",
    "xs = [1,2,3,4,5,6,7,8,9,10]\n",
    "even_list = []\n",
    "for i in xs:\n",
    " if i % 2 == 0:\n",
    "    even_list.append(i)\n",
    "    print(even_list)"
   ]
  },
  {
   "cell_type": "markdown",
   "metadata": {},
   "source": [
    "# Q2"
   ]
  },
  {
   "cell_type": "code",
   "execution_count": 8,
   "metadata": {},
   "outputs": [
    {
     "name": "stdout",
     "output_type": "stream",
     "text": [
      "[1]\n",
      "[1, 4]\n",
      "[1, 4, 9]\n",
      "[1, 4, 9, 16]\n",
      "[1, 4, 9, 16, 25]\n",
      "[1, 4, 9, 16, 25, 36]\n"
     ]
    }
   ],
   "source": [
    "# LIST COMPREHENSION\n",
    "# [1,4,9,16,25,36]\n",
    "el = []\n",
    "for x in range(1,7):\n",
    " el.append(x ** 2)\n",
    " print(el) "
   ]
  },
  {
   "cell_type": "markdown",
   "metadata": {},
   "source": [
    "# Q3"
   ]
  },
  {
   "cell_type": "code",
   "execution_count": 10,
   "metadata": {},
   "outputs": [
    {
     "name": "stdout",
     "output_type": "stream",
     "text": [
      "4\n",
      "{1: 1}\n",
      "{1: 1, 2: 4}\n",
      "{1: 1, 2: 4, 3: 9}\n",
      "{1: 1, 2: 4, 3: 9, 4: 16}\n"
     ]
    }
   ],
   "source": [
    "# creating a empty dict\n",
    "dict = {}\n",
    "# getting value for \"n\" from user\n",
    "n = int(input())\n",
    "for i in range(1,n+1):\n",
    " dict[i] = i*i\n",
    " print(dict)\n"
   ]
  },
  {
   "cell_type": "markdown",
   "metadata": {},
   "source": [
    "# Q4"
   ]
  },
  {
   "cell_type": "code",
   "execution_count": 1,
   "metadata": {},
   "outputs": [
    {
     "name": "stdout",
     "output_type": "stream",
     "text": [
      "4\n",
      "UP 5\n",
      "DOWN 3\n",
      "LEFT 3\n",
      "RIGHT 2\n",
      "2\n"
     ]
    }
   ],
   "source": [
    "# creating a origin position\n",
    "pos = {\"x\":0,\"y\":0}\n",
    "# getting movement from user\n",
    "n = int(input())\n",
    "# for loop\n",
    "for i in range (n):\n",
    " move = input().split(\" \") # ACCEPT MOVEMENT COMMAND AND STORE AS A LIST\n",
    "\n",
    " if move[0].lower() == \"up\": # EXTRACT DIRECTION AND COMPARE\n",
    "  pos[\"y\"] += int(move[1]) # INCREMENT/DECREMENT APPROPRIATE CO-ORDINATES\n",
    "\n",
    " elif move[0].lower() == \"down\":\n",
    "  pos[\"y\"] -= int(move[1])\n",
    "\n",
    " elif move[0].lower() == \"left\":\n",
    "  pos[\"x\"] -= int(move[1])\n",
    " \n",
    " elif move[0].lower() == \"right\":\n",
    "  pos[\"x\"] += int(move[1])\n",
    "# printing the result\n",
    "print(int(round((pos[\"x\"]**2 + pos[\"y\"]**2)**0.5)))"
   ]
  },
  {
   "cell_type": "code",
   "execution_count": null,
   "metadata": {},
   "outputs": [],
   "source": []
  }
 ],
 "metadata": {
  "kernelspec": {
   "display_name": "Python 3",
   "language": "python",
   "name": "python3"
  },
  "language_info": {
   "codemirror_mode": {
    "name": "ipython",
    "version": 3
   },
   "file_extension": ".py",
   "mimetype": "text/x-python",
   "name": "python",
   "nbconvert_exporter": "python",
   "pygments_lexer": "ipython3",
   "version": "3.7.6"
  }
 },
 "nbformat": 4,
 "nbformat_minor": 4
}
